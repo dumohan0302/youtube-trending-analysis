{
 "cells": [
  {
   "cell_type": "markdown",
   "id": "788623be",
   "metadata": {},
   "source": [
    "# YouTube Trending Video Analysis\n",
    "\n",
    "本项目旨在探索影响视频在YouTube平台上热度的关键因素，包括播放量、点赞、评论、标题长度等。"
   ]
  },
  {
   "cell_type": "markdown",
   "id": "fe70a17a",
   "metadata": {
    "jp-MarkdownHeadingCollapsed": true
   },
   "source": [
    "## 1. 项目介绍 & 环境准备"
   ]
  },
  {
   "cell_type": "code",
   "execution_count": null,
   "id": "6d147e0c",
   "metadata": {},
   "outputs": [],
   "source": [
    "import os\n",
    "import pandas as pd\n",
    "import numpy as np\n",
    "import matplotlib.pyplot as plt\n",
    "import seaborn as sns\n",
    "import warnings\n",
    "warnings.filterwarnings(\n",
    "    'ignore',\n",
    "    message='Glyph.*missing from font'\n",
    ")\n",
    "\n",
    "# 1. 定义所有国家代码\n",
    "country_codes = ['US','CA','GB','IN','JP','RU','MX','KR']\n",
    "\n",
    "# 2. 初始化字典\n",
    "dfs = {}\n",
    "\n",
    "# 3. 批量读取到字典\n",
    "for code in country_codes:\n",
    "    path = f\"../data/archive/{code}videos.csv\"\n",
    "    # 如果有编码问题，可以加 encoding='ISO-8859-1'\n",
    "    dfs[code] = pd.read_csv(path, encoding='ISO-8859-1')\n",
    "\n",
    "# 4. 拿到 US 的 DataFrame\n",
    "df_us = dfs['US']"
   ]
  },
  {
   "cell_type": "markdown",
   "id": "b240713f-f7a7-4c1b-a110-aa592aebffa7",
   "metadata": {},
   "source": [
    "以US的数据为“金标准”在对其进行单变量，双变量，相关性等分析后，再遍历其他国家，只要在阈值内，结果输出为TRUE。"
   ]
  },
  {
   "cell_type": "markdown",
   "id": "d6cd9255",
   "metadata": {
    "jp-MarkdownHeadingCollapsed": true
   },
   "source": [
    "## 2. EDA第一步，了解整个数据集的结构和基本统计情况。"
   ]
  },
  {
   "cell_type": "code",
   "execution_count": null,
   "id": "82b61f57-f8c5-4556-a1d3-061fb29ac358",
   "metadata": {},
   "outputs": [],
   "source": [
    "print(df_us.info())"
   ]
  },
  {
   "cell_type": "code",
   "execution_count": null,
   "id": "16c5c0ca-4321-47b0-b678-729e873bcc11",
   "metadata": {},
   "outputs": [],
   "source": [
    "print(df_us.describe())"
   ]
  },
  {
   "cell_type": "code",
   "execution_count": null,
   "id": "4f06276c",
   "metadata": {},
   "outputs": [],
   "source": [
    "print(df_us.head())"
   ]
  },
  {
   "cell_type": "markdown",
   "id": "3769a24d",
   "metadata": {
    "jp-MarkdownHeadingCollapsed": true
   },
   "source": [
    "## 3. 数据清洗-缺失值与重复值处理"
   ]
  },
  {
   "cell_type": "code",
   "execution_count": null,
   "id": "4cccbfb7",
   "metadata": {},
   "outputs": [],
   "source": [
    "# 缺失值处理\n",
    "print(df_us.isnull().sum())"
   ]
  },
  {
   "cell_type": "code",
   "execution_count": null,
   "id": "d513ed0c",
   "metadata": {},
   "outputs": [],
   "source": [
    "#重复值处理\n",
    "print(df_us.duplicated().sum())\n",
    "print(df_us.drop_duplicates())\n",
    "print(df_us.shape)"
   ]
  },
  {
   "cell_type": "code",
   "execution_count": null,
   "id": "58a0ed9f-8764-45cd-8980-910a50d7d682",
   "metadata": {},
   "outputs": [],
   "source": [
    "# 1. 把 trending_date（格式如 '17.14.11' 对应 'YY.dd.mm'）转成 datetime\n",
    "df_us['trending_date'] = pd.to_datetime(df_us['trending_date'], format='%y.%d.%m')\n",
    "# 2. 把 publish_time（ISO 字符串）转成 datetime\n",
    "df_us['publish_time'] = pd.to_datetime(df_us['publish_time'])\n",
    "# 验证\n",
    "print(df_us.dtypes[['trending_date','publish_time']])\n",
    "print(df_us.head)"
   ]
  },
  {
   "cell_type": "code",
   "execution_count": null,
   "id": "dddfd85d-dca3-446e-80ac-89b4e2b3c991",
   "metadata": {},
   "outputs": [],
   "source": [
    "df_us['views_log'] = np.log1p(df_us['views'])"
   ]
  },
  {
   "cell_type": "markdown",
   "id": "f27f3905",
   "metadata": {
    "jp-MarkdownHeadingCollapsed": true
   },
   "source": [
    "## 4. 单变量分布（Univariate Analysis）"
   ]
  },
  {
   "cell_type": "code",
   "execution_count": null,
   "id": "c74f46d1-914d-4652-9a4b-2a5ca962c2e9",
   "metadata": {},
   "outputs": [],
   "source": [
    "#类别/日期变量\n",
    "# 添加小时和星期信息\n",
    "# 2. 转换为 datetime（遇到解析失败的会变成 NaT）\n",
    "df_us['publish_time'] = pd.to_datetime(\n",
    "    df_us['publish_time'],\n",
    "    format='%Y-%m-%dT%H:%M:%S.%fZ',  # 如果是 ISO 格式也可以删掉 format\n",
    "    errors='coerce')\n",
    "df_us['publish_hour']      = df_us['publish_time'].dt.hour\n",
    "df_us['publish_dayofweek'] = df_us['publish_time'].dt.day_name()\n",
    "# 小时分布\n",
    "hour_counts = df_us['publish_hour'].value_counts().sort_index()\n",
    "print('发布小时分布：')\n",
    "print(hour_counts)\n",
    "# 星期几分布\n",
    "day_counts = df_us['publish_dayofweek'].value_counts()\n",
    "print('发布星期分布：')\n",
    "print(day_counts)\n",
    "# 类别占比\n",
    "cat_ratio = df_us['category_id'].value_counts(normalize=True)\n",
    "print('类别 ID 占比：')\n",
    "print(cat_ratio)\n",
    "print('-' * 40)\n",
    "#可视化\n",
    "plt.figure(figsize=(4,2))\n",
    "sns.barplot(x=hour_counts.index, y=hour_counts.values)\n",
    "plt.title(\"hourofday\")\n",
    "plt.xlabel('Hour of Day')\n",
    "plt.ylabel('Video Count')\n",
    "plt.show()\n",
    "\n",
    "plt.figure(figsize=(4,2))\n",
    "sns.barplot(x=day_counts.index, y=day_counts.values)\n",
    "plt.title(\"dayofweek\")\n",
    "plt.xlabel('Day of Week')\n",
    "plt.ylabel('Video Count')\n",
    "plt.xticks(rotation=45)\n",
    "plt.show()\n",
    "    "
   ]
  },
  {
   "cell_type": "code",
   "execution_count": null,
   "id": "199cf66c-2230-403c-9f62-a6b98d3c558d",
   "metadata": {},
   "outputs": [],
   "source": [
    "#连续变量\n",
    "# views\n",
    "stats = df_us['views'].describe(percentiles=[.01,.05,.25,.5,.75,.95,.99])\n",
    "print(stats)\n",
    "# 直方图 + KDE\n",
    "plt.figure(figsize=(4,2))\n",
    "sns.histplot(df_us['views_log'], bins=50, kde=True, log_scale=(True,False))\n",
    "plt.title(\"US Views Distribution (log scale)\")   # 一定要给 title 传参\n",
    "plt.tight_layout()\n",
    "plt.show()\n",
    "# 箱线图\n",
    "plt.figure(figsize=(4,2))\n",
    "sns.boxplot(y=df['views'])\n",
    "plt.yscale('log')\n",
    "plt.title(\"US Views Boxplot (log scale)\")       # 同样需要参数\n",
    "plt.tight_layout()\n",
    "plt.show()"
   ]
  },
  {
   "cell_type": "markdown",
   "id": "26157600-c08d-4f2a-a5ce-1178453aa13f",
   "metadata": {},
   "source": [
    "观测到播放量高度右偏，需做 log 变换"
   ]
  },
  {
   "cell_type": "markdown",
   "id": "6c226ba3-3b53-4886-afb7-25103a0d5627",
   "metadata": {
    "jp-MarkdownHeadingCollapsed": true
   },
   "source": [
    "## 5 双变量关系（Bivariate Analysis）"
   ]
  },
  {
   "cell_type": "markdown",
   "id": "17ed3cc1-c8be-4ba2-8257-d51a50361761",
   "metadata": {},
   "source": [
    "时间 vs 观看量：折线图（日/周汇总）"
   ]
  },
  {
   "cell_type": "code",
   "execution_count": null,
   "id": "412c4fd5-54de-48d1-9155-addc9ed4ffd0",
   "metadata": {},
   "outputs": [],
   "source": [
    "# 1. 日度汇总（按日期求和播放量）\n",
    "daily = (\n",
    "    df_us\n",
    "    .groupby('trending_date')['views']\n",
    "    .sum()\n",
    "    .reset_index(name='daily_views')\n",
    ")\n",
    "\n",
    "plt.figure(figsize=(10, 4))\n",
    "sns.lineplot(data=daily, x='trending_date', y='daily_views')\n",
    "plt.title('US Daily Total Views')\n",
    "plt.xlabel('Date')\n",
    "plt.ylabel('Total Views')\n",
    "plt.xticks(rotation=45)\n",
    "plt.tight_layout()\n",
    "plt.show()\n",
    "\n",
    "# 2. 周度汇总（以每周第一天作为标识，求和播放量）\n",
    "# 将日期转为周周期，Period.to_timestamp() 得到周期起始时间\n",
    "weekly = (\n",
    "    df_us\n",
    "    .assign(week_start = df_us['trending_date']\n",
    "            .dt.to_period('W')\n",
    "            .apply(lambda r: r.start_time))\n",
    "    .groupby('week_start')['views']\n",
    "    .sum()\n",
    "    .reset_index(name='weekly_views')\n",
    ")\n",
    "\n",
    "plt.figure(figsize=(10, 4))\n",
    "sns.lineplot(data=weekly, x='week_start', y='weekly_views', marker='o')\n",
    "plt.title('US Weekly Total Views')\n",
    "plt.xlabel('Week Starting')\n",
    "plt.ylabel('Total Views')\n",
    "plt.xticks(rotation=45)\n",
    "plt.tight_layout()\n",
    "plt.show()"
   ]
  },
  {
   "cell_type": "markdown",
   "id": "ce0da451-8d4d-4b60-90ca-cfa0cab21057",
   "metadata": {},
   "source": [
    "业务指标计算：CTR = clicks/views，Engagement Rate = (likes+comments)/views"
   ]
  },
  {
   "cell_type": "code",
   "execution_count": null,
   "id": "8005606a-c2c1-4d28-9892-b4d88cf5ea78",
   "metadata": {},
   "outputs": [],
   "source": [
    "# 1. 计算 CTR\n",
    "#df_us['CTR'] = df_us['clicks'] / df_us['views']\n",
    "\n",
    "# 2. 计算 Engagement Rate\n",
    "df_us['Engagement_Rate'] = (df_us['likes'] + df_us['comment_count']) / df_us['views']\n",
    "\n",
    "# 3. 查看结果\n",
    "df_us[['views','likes','comment_count','Engagement_Rate']].head()\n",
    "#4. 整体可视化\n",
    "sns.histplot(df_us['Engagement_Rate'], bins=50, kde=True)\n",
    "plt.title('US Engagement Rate Distribution')\n",
    "plt.show()\n",
    "df_us['Engagement_Rate'].describe()"
   ]
  },
  {
   "cell_type": "markdown",
   "id": "fb46954a-4d29-43ae-a626-00788e239e10",
   "metadata": {},
   "source": [
    "类别VS 参与率"
   ]
  },
  {
   "cell_type": "code",
   "execution_count": null,
   "id": "a9bf9087-839f-4faa-b607-4774f203fac1",
   "metadata": {},
   "outputs": [],
   "source": [
    "import json\n",
    "import pandas as pd\n",
    "\n",
    "# 1. 先加载你的数据（以 US 为例）\n",
    "df = pd.read_csv('../data/archive/USvideos.csv', encoding='ISO-8859-1')\n",
    "\n",
    "# 2. 读取 JSON 映射文件\n",
    "with open('../data/archive/US_category_id.json', 'r') as f:\n",
    "    cat_json = json.load(f)\n",
    "\n",
    "# 3. 从 JSON 构造 {int(id) → title} 的字典\n",
    "mapping = { int(item['id']): item['snippet']['title']\n",
    "            for item in cat_json['items'] }\n",
    "\n",
    "# 4. 新增一列 category_name\n",
    "df['category_name'] = df['category_id'].map(mapping)\n",
    "\n",
    "# 看看结果\n",
    "print(df[['category_id','category_name']].drop_duplicates().head(10))\n",
    "\n",
    "sns.barplot(x='category_id', y='Engagement_Rate', data=df_us, errorbar='sd')"
   ]
  },
  {
   "cell_type": "markdown",
   "id": "3a68a650-741b-4ebe-9e86-103010d4ad9f",
   "metadata": {
    "jp-MarkdownHeadingCollapsed": true
   },
   "source": [
    "## 6. 相关性热力图（Correlation Matrix）"
   ]
  },
  {
   "cell_type": "code",
   "execution_count": null,
   "id": "02e47df4-b7c2-4996-933c-e5f018313ca8",
   "metadata": {},
   "outputs": [],
   "source": [
    "快速看数值型字段之间的线性相关强度，辅助后续建模和特征选择"
   ]
  },
  {
   "cell_type": "code",
   "execution_count": null,
   "id": "4f45f4ba-85e9-4f0f-b753-ea9195db0872",
   "metadata": {},
   "outputs": [],
   "source": [
    "num_cols = ['views','likes','comment_count','Engagement_Rate']\n",
    "\n",
    "corr = df_us[num_cols].corr()    # 计算相关矩阵\n",
    "\n",
    "plt.figure(figsize=(6,5))\n",
    "sns.heatmap(corr, annot=True, fmt=\".2f\", cmap=\"vlag\", center=0)\n",
    "plt.title('Correlation Matrix for US Videos')\n",
    "plt.show()"
   ]
  },
  {
   "cell_type": "code",
   "execution_count": null,
   "id": "a09b8d02-d1e4-456e-b9d5-f9d12f1a57e3",
   "metadata": {},
   "outputs": [],
   "source": [
    "\n",
    "sns.pairplot(\n",
    "    df_us[num_cols], \n",
    "    kind='scatter',    # 散点图\n",
    "    diag_kind='kde',   \n",
    "    plot_kws={'alpha':0.3, 's':10},  \n",
    "        \n",
    ")\n",
    "plt.suptitle('Pairplot of Key Metrics', y=1.02)\n",
    "plt.show()\n"
   ]
  },
  {
   "cell_type": "markdown",
   "id": "075f1f18-cbb0-4eab-a28a-2b9dfd35c906",
   "metadata": {},
   "source": [
    "## 7. 结论"
   ]
  },
  {
   "cell_type": "markdown",
   "id": "3d0c1841-f1d4-469a-bd8b-f7262356a962",
   "metadata": {},
   "source": [
    "    1.\t播放量分布\n",
    "\t•\t原始播放量高度右偏，90% 的视频播放量集中在 10⁴–10⁶ 之间，中位数约 6.8×10⁵。\n",
    "\t•\t少数爆款（top1%）播放量可达 10⁷–10⁸，属于离群点。\n",
    "\t2.\t互动率\n",
    "\t•\t综合互动率 (likes+comments)/views 中位数约 0.05（5%），绝大多数视频互动率低于 10%。\n",
    "\t•\t高播放量视频互动率反而略低，说明“流量多”并不等于“参与多”。\n",
    "\t3.\t发布时间\n",
    "\t•\t发片高峰集中在16–18 点，此时 US Trending 视频出现数量最高。\n",
    "\t•\t周分布上，周五/周四/周三占比最高，周末（周日/周六）显著下降。\n",
    "\t4.\t变量关系\n",
    "\t•\tviews_log 与 likes_log、comment_count_log 相关系数均 >0.85，点赞与播放量高度线性正相关；评论数相关度略低。\n",
    "\t•\tviews_log 与 engagement_rate 相关系数低（≈–0.2），说明极大流量的视频往往互动率偏低。"
   ]
  },
  {
   "cell_type": "markdown",
   "id": "62a86be4-8eda-4110-aecb-000736eef266",
   "metadata": {},
   "source": [
    "## 8. 统计显著性检验（Statistical Testing）"
   ]
  },
  {
   "cell_type": "markdown",
   "id": "054e07e5-bd30-4013-80d9-1f79659ee297",
   "metadata": {},
   "source": [
    "## 9. US 先行结论 → 多国验证"
   ]
  },
  {
   "cell_type": "code",
   "execution_count": 114,
   "id": "ca760f7a-61a3-4fec-a9f8-dc8ba0889a52",
   "metadata": {},
   "outputs": [],
   "source": [
    "# 1) US 播放量中位数（log scale）\n",
    "us_median = df_us['views_log'].median()\n",
    "# 2) US IQR\n",
    "us_iqr = df_us['views_log'].quantile(0.75) - df_us['views_log'].quantile(0.25)"
   ]
  },
  {
   "cell_type": "code",
   "execution_count": 115,
   "id": "b69262ae-522d-4f10-b977-90dd0d22471c",
   "metadata": {},
   "outputs": [],
   "source": [
    "def validate_views_distribution(df, ref_median, ref_iqr, tol=0.10):\n",
    "    \"\"\"\n",
    "    验证 df['views_log'] 的中位数和 IQR 是否在 ref ± tol 范围内。\n",
    "    tol=0.10 表示允许 10% 的相对偏差。\n",
    "    返回 (median_ok, iqr_ok) 两个布尔值。\n",
    "    \"\"\"\n",
    "    med = df['views_log'].median()\n",
    "    iqr = df['views_log'].quantile(0.75) - df['views_log'].quantile(0.25)\n",
    "    median_ok = abs(med - ref_median)/ref_median < tol\n",
    "    iqr_ok    = abs(iqr - ref_iqr)/ref_iqr       < tol\n",
    "    return median_ok, iqr_ok"
   ]
  },
  {
   "cell_type": "code",
   "execution_count": 116,
   "id": "6d7fe267-c8a7-44bb-b60c-73e1143572ac",
   "metadata": {},
   "outputs": [
    {
     "data": {
      "text/html": [
       "<div>\n",
       "<style scoped>\n",
       "    .dataframe tbody tr th:only-of-type {\n",
       "        vertical-align: middle;\n",
       "    }\n",
       "\n",
       "    .dataframe tbody tr th {\n",
       "        vertical-align: top;\n",
       "    }\n",
       "\n",
       "    .dataframe thead th {\n",
       "        text-align: right;\n",
       "    }\n",
       "</style>\n",
       "<table border=\"1\" class=\"dataframe\">\n",
       "  <thead>\n",
       "    <tr style=\"text-align: right;\">\n",
       "      <th></th>\n",
       "      <th>median_within_10%</th>\n",
       "      <th>iqr_within_10%</th>\n",
       "    </tr>\n",
       "  </thead>\n",
       "  <tbody>\n",
       "    <tr>\n",
       "      <th>CA</th>\n",
       "      <td>True</td>\n",
       "      <td>True</td>\n",
       "    </tr>\n",
       "    <tr>\n",
       "      <th>GB</th>\n",
       "      <td>True</td>\n",
       "      <td>False</td>\n",
       "    </tr>\n",
       "    <tr>\n",
       "      <th>IN</th>\n",
       "      <td>True</td>\n",
       "      <td>True</td>\n",
       "    </tr>\n",
       "    <tr>\n",
       "      <th>JP</th>\n",
       "      <td>False</td>\n",
       "      <td>False</td>\n",
       "    </tr>\n",
       "    <tr>\n",
       "      <th>RU</th>\n",
       "      <td>False</td>\n",
       "      <td>True</td>\n",
       "    </tr>\n",
       "    <tr>\n",
       "      <th>MX</th>\n",
       "      <td>False</td>\n",
       "      <td>False</td>\n",
       "    </tr>\n",
       "    <tr>\n",
       "      <th>KR</th>\n",
       "      <td>False</td>\n",
       "      <td>False</td>\n",
       "    </tr>\n",
       "  </tbody>\n",
       "</table>\n",
       "</div>"
      ],
      "text/plain": [
       "    median_within_10%  iqr_within_10%\n",
       "CA               True            True\n",
       "GB               True           False\n",
       "IN               True            True\n",
       "JP              False           False\n",
       "RU              False            True\n",
       "MX              False           False\n",
       "KR              False           False"
      ]
     },
     "execution_count": 116,
     "metadata": {},
     "output_type": "execute_result"
    }
   ],
   "source": [
    "results = {}\n",
    "for code, df in dfs.items():\n",
    "    if code == 'US': \n",
    "        continue\n",
    "    # 确保 views_log 存在，或先做 log 变换\n",
    "    df['views_log'] = np.log1p(df['views'])\n",
    "    median_ok, iqr_ok = validate_views_distribution(df, us_median, us_iqr)\n",
    "    results[code] = {\n",
    "        'median_within_10%': median_ok,\n",
    "        'iqr_within_10%':   iqr_ok\n",
    "    }\n",
    "\n",
    "import pandas as pd\n",
    "pd.DataFrame(results).T"
   ]
  },
  {
   "cell_type": "code",
   "execution_count": null,
   "id": "12ecc22d-28a7-4c94-bc97-9a104129be03",
   "metadata": {},
   "outputs": [],
   "source": []
  }
 ],
 "metadata": {
  "kernelspec": {
   "display_name": "Python 3 (ipykernel)",
   "language": "python",
   "name": "python3"
  },
  "language_info": {
   "codemirror_mode": {
    "name": "ipython",
    "version": 3
   },
   "file_extension": ".py",
   "mimetype": "text/x-python",
   "name": "python",
   "nbconvert_exporter": "python",
   "pygments_lexer": "ipython3",
   "version": "3.10.0"
  }
 },
 "nbformat": 4,
 "nbformat_minor": 5
}
